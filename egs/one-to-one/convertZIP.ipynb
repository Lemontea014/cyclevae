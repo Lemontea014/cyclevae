{
 "cells": [
  {
   "cell_type": "code",
   "execution_count": 5,
   "id": "e06675b2-0f9e-433e-b4d8-893e2efd2a69",
   "metadata": {
    "tags": []
   },
   "outputs": [
    {
     "name": "stdout",
     "output_type": "stream",
     "text": [
      "Created wav_anasyn/ts50_air_trg_bone_src.zip\n"
     ]
    }
   ],
   "source": [
    "import shutil\n",
    "\n",
    "# 圧縮するフォルダ名（圧縮対象のフォルダがある場所）\n",
    "folder_to_zip = \"wav_anasyn/ts50_air_trg_bone_src\"\n",
    "\n",
    "# 圧縮後のファイル名（.zip なしで指定）\n",
    "output_zip = folder_to_zip\n",
    "\n",
    "# ZIPファイルを作成\n",
    "shutil.make_archive(output_zip, 'zip', folder_to_zip)\n",
    "\n",
    "print(f\"Created {output_zip}.zip\")\n"
   ]
  },
  {
   "cell_type": "code",
   "execution_count": null,
   "id": "f65f9bd2-2b45-4078-9ce8-fe65b4d1a5aa",
   "metadata": {},
   "outputs": [],
   "source": []
  }
 ],
 "metadata": {
  "kernelspec": {
   "display_name": "Python (venv37pt1cu10)",
   "language": "python",
   "name": "venv37pt1cu10"
  },
  "language_info": {
   "codemirror_mode": {
    "name": "ipython",
    "version": 3
   },
   "file_extension": ".py",
   "mimetype": "text/x-python",
   "name": "python",
   "nbconvert_exporter": "python",
   "pygments_lexer": "ipython3",
   "version": "3.7.5"
  }
 },
 "nbformat": 4,
 "nbformat_minor": 5
}
